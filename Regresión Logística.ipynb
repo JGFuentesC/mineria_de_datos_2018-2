{
 "cells": [
  {
   "cell_type": "code",
   "execution_count": 249,
   "metadata": {},
   "outputs": [],
   "source": [
    "from __future__ import division\n",
    "import pandas as pd\n",
    "import numpy as np\n",
    "from sklearn.linear_model import LogisticRegression\n",
    "from sklearn.model_selection import train_test_split\n",
    "from sklearn.model_selection import GridSearchCV\n",
    "from sklearn.model_selection import RandomizedSearchCV\n",
    "from sklearn.metrics import accuracy_score,roc_auc_score\n",
    "import seaborn as sns\n",
    "import matplotlib.pyplot as plt\n",
    "#from analytics_tools.analytics_tools3 import freq_discrete\n",
    "%matplotlib inline"
   ]
  },
  {
   "cell_type": "code",
   "execution_count": 250,
   "metadata": {},
   "outputs": [],
   "source": [
    "def metricas(model,Xt,Xv,yt,yv):\n",
    "    print \"Accuracy_Train %.2f, Accuracy_Validate %.2f \"%(accuracy_score(y_pred=model.predict(Xt),y_true=yt),accuracy_score(y_pred=model.predict(Xv),y_true=yv))\n",
    "    print \"ROC_Train %.2f, ROC_Validate %.2f \"%(roc_auc_score(y_score=model.predict_proba(Xt)[:,1],y_true=yt),roc_auc_score(y_score=model.predict_proba(Xv)[:,1],y_true=yv))\n"
   ]
  },
  {
   "cell_type": "code",
   "execution_count": 251,
   "metadata": {},
   "outputs": [],
   "source": [
    "df = pd.read_excel('Data/churn.xlsx')"
   ]
  },
  {
   "cell_type": "code",
   "execution_count": 252,
   "metadata": {},
   "outputs": [
    {
     "name": "stdout",
     "output_type": "stream",
     "text": [
      "<class 'pandas.core.frame.DataFrame'>\n",
      "RangeIndex: 2801 entries, 0 to 2800\n",
      "Data columns (total 14 columns):\n",
      "V_ACCT_LGHT      2801 non-null int64\n",
      "C_IP             2801 non-null object\n",
      "C_VMP            2801 non-null object\n",
      "V_N_VM_MESS      2801 non-null int64\n",
      "V_T_DAY_CHG      2801 non-null float64\n",
      "V_T_EVE_CALLS    2801 non-null int64\n",
      "V_T_EVE_CHG      2801 non-null float64\n",
      "V_T_NIG_CALLS    2801 non-null int64\n",
      "V_T_NIG_CHG      2801 non-null float64\n",
      "V_T_INT_CALLS    2801 non-null int64\n",
      "V_T_INT_CHG      2801 non-null float64\n",
      "V_CS_CALLS       2801 non-null int64\n",
      "TARGET           2801 non-null int64\n",
      "ID               2801 non-null int64\n",
      "dtypes: float64(4), int64(8), object(2)\n",
      "memory usage: 306.4+ KB\n"
     ]
    }
   ],
   "source": [
    "df.info()"
   ]
  },
  {
   "cell_type": "code",
   "execution_count": 253,
   "metadata": {},
   "outputs": [
    {
     "data": {
      "text/html": [
       "<div>\n",
       "<style scoped>\n",
       "    .dataframe tbody tr th:only-of-type {\n",
       "        vertical-align: middle;\n",
       "    }\n",
       "\n",
       "    .dataframe tbody tr th {\n",
       "        vertical-align: top;\n",
       "    }\n",
       "\n",
       "    .dataframe thead th {\n",
       "        text-align: right;\n",
       "    }\n",
       "</style>\n",
       "<table border=\"1\" class=\"dataframe\">\n",
       "  <thead>\n",
       "    <tr style=\"text-align: right;\">\n",
       "      <th></th>\n",
       "      <th>V_ACCT_LGHT</th>\n",
       "      <th>C_IP</th>\n",
       "      <th>C_VMP</th>\n",
       "      <th>V_N_VM_MESS</th>\n",
       "      <th>V_T_DAY_CHG</th>\n",
       "      <th>V_T_EVE_CALLS</th>\n",
       "      <th>V_T_EVE_CHG</th>\n",
       "      <th>V_T_NIG_CALLS</th>\n",
       "      <th>V_T_NIG_CHG</th>\n",
       "      <th>V_T_INT_CALLS</th>\n",
       "      <th>V_T_INT_CHG</th>\n",
       "      <th>V_CS_CALLS</th>\n",
       "      <th>TARGET</th>\n",
       "      <th>ID</th>\n",
       "    </tr>\n",
       "  </thead>\n",
       "  <tbody>\n",
       "    <tr>\n",
       "      <th>0</th>\n",
       "      <td>128</td>\n",
       "      <td>No</td>\n",
       "      <td>Yes</td>\n",
       "      <td>25</td>\n",
       "      <td>45.07</td>\n",
       "      <td>99</td>\n",
       "      <td>16.78</td>\n",
       "      <td>91</td>\n",
       "      <td>11.01</td>\n",
       "      <td>3</td>\n",
       "      <td>2.70</td>\n",
       "      <td>1</td>\n",
       "      <td>0</td>\n",
       "      <td>1</td>\n",
       "    </tr>\n",
       "    <tr>\n",
       "      <th>1</th>\n",
       "      <td>107</td>\n",
       "      <td>No</td>\n",
       "      <td>Yes</td>\n",
       "      <td>26</td>\n",
       "      <td>27.47</td>\n",
       "      <td>103</td>\n",
       "      <td>16.62</td>\n",
       "      <td>103</td>\n",
       "      <td>11.45</td>\n",
       "      <td>3</td>\n",
       "      <td>3.70</td>\n",
       "      <td>1</td>\n",
       "      <td>0</td>\n",
       "      <td>2</td>\n",
       "    </tr>\n",
       "    <tr>\n",
       "      <th>2</th>\n",
       "      <td>137</td>\n",
       "      <td>No</td>\n",
       "      <td>No</td>\n",
       "      <td>0</td>\n",
       "      <td>41.38</td>\n",
       "      <td>110</td>\n",
       "      <td>10.30</td>\n",
       "      <td>104</td>\n",
       "      <td>7.32</td>\n",
       "      <td>5</td>\n",
       "      <td>3.29</td>\n",
       "      <td>0</td>\n",
       "      <td>0</td>\n",
       "      <td>3</td>\n",
       "    </tr>\n",
       "    <tr>\n",
       "      <th>3</th>\n",
       "      <td>65</td>\n",
       "      <td>No</td>\n",
       "      <td>No</td>\n",
       "      <td>0</td>\n",
       "      <td>21.95</td>\n",
       "      <td>83</td>\n",
       "      <td>19.42</td>\n",
       "      <td>111</td>\n",
       "      <td>9.40</td>\n",
       "      <td>6</td>\n",
       "      <td>3.43</td>\n",
       "      <td>4</td>\n",
       "      <td>1</td>\n",
       "      <td>11</td>\n",
       "    </tr>\n",
       "    <tr>\n",
       "      <th>4</th>\n",
       "      <td>168</td>\n",
       "      <td>No</td>\n",
       "      <td>No</td>\n",
       "      <td>0</td>\n",
       "      <td>21.90</td>\n",
       "      <td>71</td>\n",
       "      <td>8.92</td>\n",
       "      <td>128</td>\n",
       "      <td>6.35</td>\n",
       "      <td>2</td>\n",
       "      <td>3.02</td>\n",
       "      <td>1</td>\n",
       "      <td>0</td>\n",
       "      <td>13</td>\n",
       "    </tr>\n",
       "  </tbody>\n",
       "</table>\n",
       "</div>"
      ],
      "text/plain": [
       "   V_ACCT_LGHT C_IP C_VMP  V_N_VM_MESS  V_T_DAY_CHG  V_T_EVE_CALLS  \\\n",
       "0          128   No   Yes           25        45.07             99   \n",
       "1          107   No   Yes           26        27.47            103   \n",
       "2          137   No    No            0        41.38            110   \n",
       "3           65   No    No            0        21.95             83   \n",
       "4          168   No    No            0        21.90             71   \n",
       "\n",
       "   V_T_EVE_CHG  V_T_NIG_CALLS  V_T_NIG_CHG  V_T_INT_CALLS  V_T_INT_CHG  \\\n",
       "0        16.78             91        11.01              3         2.70   \n",
       "1        16.62            103        11.45              3         3.70   \n",
       "2        10.30            104         7.32              5         3.29   \n",
       "3        19.42            111         9.40              6         3.43   \n",
       "4         8.92            128         6.35              2         3.02   \n",
       "\n",
       "   V_CS_CALLS  TARGET  ID  \n",
       "0           1       0   1  \n",
       "1           1       0   2  \n",
       "2           0       0   3  \n",
       "3           4       1  11  \n",
       "4           1       0  13  "
      ]
     },
     "execution_count": 253,
     "metadata": {},
     "output_type": "execute_result"
    }
   ],
   "source": [
    "df.head()"
   ]
  },
  {
   "cell_type": "code",
   "execution_count": 254,
   "metadata": {},
   "outputs": [],
   "source": [
    "var_cont = [v for v in df.columns if v[:2]=='V_']\n",
    "var_disc = [v for v in df.columns if v[:2]=='C_']"
   ]
  },
  {
   "cell_type": "code",
   "execution_count": 255,
   "metadata": {},
   "outputs": [
    {
     "data": {
      "text/plain": [
       "(10, 2)"
      ]
     },
     "execution_count": 255,
     "metadata": {},
     "output_type": "execute_result"
    }
   ],
   "source": [
    "len(var_cont),len(var_disc)"
   ]
  },
  {
   "cell_type": "code",
   "execution_count": 256,
   "metadata": {},
   "outputs": [],
   "source": [
    "df['C_IP'] = np.where(df['C_IP']=='Yes',-1.43065547791029,0.258835578050761)\n",
    "df['C_VMP'] = np.where(df['C_VMP'] == 'Yes',0.510385966691421,-0.14832901744704)\n",
    "\n"
   ]
  },
  {
   "cell_type": "code",
   "execution_count": 257,
   "metadata": {},
   "outputs": [
    {
     "name": "stdout",
     "output_type": "stream",
     "text": [
      "V_ACCT_LGHT\n",
      "V_N_VM_MESS\n",
      "V_T_DAY_CHG\n",
      "V_T_EVE_CALLS\n",
      "V_T_EVE_CHG\n",
      "V_T_NIG_CALLS\n",
      "V_T_NIG_CHG\n",
      "V_T_INT_CALLS\n",
      "V_T_INT_CHG\n",
      "V_CS_CALLS\n"
     ]
    }
   ],
   "source": [
    "for v in var_cont:\n",
    "    print v\n",
    "    df[v]= pd.cut(df[v],bins=5).astype(str)\n",
    "    aux = df[[v,'TARGET']].copy()\n",
    "    aux['n'] = 1\n",
    "    aux = aux.pivot_table(aggfunc='count',\n",
    "                          columns='TARGET',\n",
    "                          fill_value=0,\n",
    "                          index=v,\n",
    "                          values='n')\n",
    "    aux.reset_index(inplace=True)\n",
    "    for i in range(2):\n",
    "        aux[i]/=aux[i].sum()\n",
    "\n",
    "    aux['woe'] = np.log(aux[0]/aux[1])\n",
    "    aux.drop(range(2),axis=1,inplace=True)\n",
    "    df = df.merge(aux,on=v,how='inner')\n",
    "    df.drop(v,axis=1,inplace=True)\n",
    "    df.rename(columns={'woe':v},inplace=True)"
   ]
  },
  {
   "cell_type": "code",
   "execution_count": 258,
   "metadata": {},
   "outputs": [
    {
     "data": {
      "text/html": [
       "<div>\n",
       "<style scoped>\n",
       "    .dataframe tbody tr th:only-of-type {\n",
       "        vertical-align: middle;\n",
       "    }\n",
       "\n",
       "    .dataframe tbody tr th {\n",
       "        vertical-align: top;\n",
       "    }\n",
       "\n",
       "    .dataframe thead th {\n",
       "        text-align: right;\n",
       "    }\n",
       "</style>\n",
       "<table border=\"1\" class=\"dataframe\">\n",
       "  <thead>\n",
       "    <tr style=\"text-align: right;\">\n",
       "      <th></th>\n",
       "      <th>C_IP</th>\n",
       "      <th>C_VMP</th>\n",
       "      <th>TARGET</th>\n",
       "      <th>ID</th>\n",
       "      <th>V_ACCT_LGHT</th>\n",
       "      <th>V_N_VM_MESS</th>\n",
       "      <th>V_T_DAY_CHG</th>\n",
       "      <th>V_T_EVE_CALLS</th>\n",
       "      <th>V_T_EVE_CHG</th>\n",
       "      <th>V_T_NIG_CALLS</th>\n",
       "      <th>V_T_NIG_CHG</th>\n",
       "      <th>V_T_INT_CALLS</th>\n",
       "      <th>V_T_INT_CHG</th>\n",
       "      <th>V_CS_CALLS</th>\n",
       "    </tr>\n",
       "  </thead>\n",
       "  <tbody>\n",
       "    <tr>\n",
       "      <th>0</th>\n",
       "      <td>0.258836</td>\n",
       "      <td>0.510386</td>\n",
       "      <td>0</td>\n",
       "      <td>1</td>\n",
       "      <td>0.061033</td>\n",
       "      <td>1.219037</td>\n",
       "      <td>-1.864202</td>\n",
       "      <td>0.068283</td>\n",
       "      <td>0.065696</td>\n",
       "      <td>-0.089148</td>\n",
       "      <td>-0.05179</td>\n",
       "      <td>-0.29035</td>\n",
       "      <td>0.007263</td>\n",
       "      <td>0.295956</td>\n",
       "    </tr>\n",
       "    <tr>\n",
       "      <th>1</th>\n",
       "      <td>0.258836</td>\n",
       "      <td>-0.148329</td>\n",
       "      <td>0</td>\n",
       "      <td>2170</td>\n",
       "      <td>0.061033</td>\n",
       "      <td>-0.147174</td>\n",
       "      <td>0.561314</td>\n",
       "      <td>-0.053201</td>\n",
       "      <td>0.065696</td>\n",
       "      <td>-0.089148</td>\n",
       "      <td>-0.05179</td>\n",
       "      <td>-0.29035</td>\n",
       "      <td>0.007263</td>\n",
       "      <td>0.295956</td>\n",
       "    </tr>\n",
       "    <tr>\n",
       "      <th>2</th>\n",
       "      <td>0.258836</td>\n",
       "      <td>-0.148329</td>\n",
       "      <td>0</td>\n",
       "      <td>3022</td>\n",
       "      <td>0.053118</td>\n",
       "      <td>-0.147174</td>\n",
       "      <td>0.178109</td>\n",
       "      <td>-0.053201</td>\n",
       "      <td>0.065696</td>\n",
       "      <td>-0.089148</td>\n",
       "      <td>-0.05179</td>\n",
       "      <td>-0.29035</td>\n",
       "      <td>0.007263</td>\n",
       "      <td>0.295956</td>\n",
       "    </tr>\n",
       "    <tr>\n",
       "      <th>3</th>\n",
       "      <td>0.258836</td>\n",
       "      <td>0.510386</td>\n",
       "      <td>0</td>\n",
       "      <td>558</td>\n",
       "      <td>0.053118</td>\n",
       "      <td>1.219037</td>\n",
       "      <td>0.561314</td>\n",
       "      <td>0.031576</td>\n",
       "      <td>0.065696</td>\n",
       "      <td>-0.089148</td>\n",
       "      <td>-0.05179</td>\n",
       "      <td>-0.29035</td>\n",
       "      <td>0.007263</td>\n",
       "      <td>0.295956</td>\n",
       "    </tr>\n",
       "    <tr>\n",
       "      <th>4</th>\n",
       "      <td>0.258836</td>\n",
       "      <td>-0.148329</td>\n",
       "      <td>0</td>\n",
       "      <td>3117</td>\n",
       "      <td>0.061033</td>\n",
       "      <td>-0.147174</td>\n",
       "      <td>0.561314</td>\n",
       "      <td>0.031576</td>\n",
       "      <td>0.065696</td>\n",
       "      <td>-0.089148</td>\n",
       "      <td>-0.05179</td>\n",
       "      <td>-0.29035</td>\n",
       "      <td>0.007263</td>\n",
       "      <td>0.295956</td>\n",
       "    </tr>\n",
       "  </tbody>\n",
       "</table>\n",
       "</div>"
      ],
      "text/plain": [
       "       C_IP     C_VMP  TARGET    ID  V_ACCT_LGHT  V_N_VM_MESS  V_T_DAY_CHG  \\\n",
       "0  0.258836  0.510386       0     1     0.061033     1.219037    -1.864202   \n",
       "1  0.258836 -0.148329       0  2170     0.061033    -0.147174     0.561314   \n",
       "2  0.258836 -0.148329       0  3022     0.053118    -0.147174     0.178109   \n",
       "3  0.258836  0.510386       0   558     0.053118     1.219037     0.561314   \n",
       "4  0.258836 -0.148329       0  3117     0.061033    -0.147174     0.561314   \n",
       "\n",
       "   V_T_EVE_CALLS  V_T_EVE_CHG  V_T_NIG_CALLS  V_T_NIG_CHG  V_T_INT_CALLS  \\\n",
       "0       0.068283     0.065696      -0.089148     -0.05179       -0.29035   \n",
       "1      -0.053201     0.065696      -0.089148     -0.05179       -0.29035   \n",
       "2      -0.053201     0.065696      -0.089148     -0.05179       -0.29035   \n",
       "3       0.031576     0.065696      -0.089148     -0.05179       -0.29035   \n",
       "4       0.031576     0.065696      -0.089148     -0.05179       -0.29035   \n",
       "\n",
       "   V_T_INT_CHG  V_CS_CALLS  \n",
       "0     0.007263    0.295956  \n",
       "1     0.007263    0.295956  \n",
       "2     0.007263    0.295956  \n",
       "3     0.007263    0.295956  \n",
       "4     0.007263    0.295956  "
      ]
     },
     "execution_count": 258,
     "metadata": {},
     "output_type": "execute_result"
    }
   ],
   "source": [
    "df.head()"
   ]
  },
  {
   "cell_type": "code",
   "execution_count": 259,
   "metadata": {},
   "outputs": [],
   "source": [
    "X = df[var_disc+var_cont]\n",
    "y = df['TARGET']"
   ]
  },
  {
   "cell_type": "code",
   "execution_count": 260,
   "metadata": {},
   "outputs": [],
   "source": [
    "Xt,Xv,yt,yv = train_test_split(X,y,train_size=0.7)"
   ]
  },
  {
   "cell_type": "code",
   "execution_count": 261,
   "metadata": {},
   "outputs": [],
   "source": [
    "model = LogisticRegression()"
   ]
  },
  {
   "cell_type": "code",
   "execution_count": 262,
   "metadata": {},
   "outputs": [
    {
     "data": {
      "text/plain": [
       "LogisticRegression(C=1.0, class_weight=None, dual=False, fit_intercept=True,\n",
       "          intercept_scaling=1, max_iter=100, multi_class='ovr', n_jobs=1,\n",
       "          penalty='l2', random_state=None, solver='liblinear', tol=0.0001,\n",
       "          verbose=0, warm_start=False)"
      ]
     },
     "execution_count": 262,
     "metadata": {},
     "output_type": "execute_result"
    }
   ],
   "source": [
    "model.fit(Xt,yt)"
   ]
  },
  {
   "cell_type": "code",
   "execution_count": 263,
   "metadata": {},
   "outputs": [
    {
     "name": "stdout",
     "output_type": "stream",
     "text": [
      "Accuracy_Train 0.88, Accuracy_Validate 0.90 \n",
      "ROC_Train 0.87, ROC_Validate 0.86 \n"
     ]
    }
   ],
   "source": [
    "metricas(model,Xt,Xv,yt,yv)"
   ]
  },
  {
   "cell_type": "code",
   "execution_count": 264,
   "metadata": {},
   "outputs": [
    {
     "data": {
      "text/plain": [
       "(array([2000.,  253.,  104.,  112.,  104.,   83.,   52.,   35.,   30.,\n",
       "          28.]),\n",
       " array([0.00212489, 0.10080192, 0.19947895, 0.29815598, 0.39683301,\n",
       "        0.49551004, 0.59418707, 0.69286409, 0.79154112, 0.89021815,\n",
       "        0.98889518]),\n",
       " <a list of 10 Patch objects>)"
      ]
     },
     "execution_count": 264,
     "metadata": {},
     "output_type": "execute_result"
    },
    {
     "data": {
      "image/png": "[encoded data removed]",
      "text/plain": [
       "<matplotlib.figure.Figure at 0x7ff03b966490>"
      ]
     },
     "metadata": {},
     "output_type": "display_data"
    }
   ],
   "source": [
    "plt.hist(model.predict_proba(X)[:,1])"
   ]
  },
  {
   "cell_type": "code",
   "execution_count": null,
   "metadata": {},
   "outputs": [],
   "source": []
  }
 ],
 "metadata": {
  "kernelspec": {
   "display_name": "Python 2",
   "language": "python",
   "name": "python2"
  },
  "language_info": {
   "codemirror_mode": {
    "name": "ipython",
    "version": 2
   },
   "file_extension": ".py",
   "mimetype": "text/x-python",
   "name": "python",
   "nbconvert_exporter": "python",
   "pygments_lexer": "ipython2",
   "version": "2.7.14"
  }
 },
 "nbformat": 4,
 "nbformat_minor": 2
}
